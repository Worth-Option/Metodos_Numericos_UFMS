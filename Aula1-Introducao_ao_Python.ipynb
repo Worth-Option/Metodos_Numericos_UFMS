{
 "cells": [
  {
   "cell_type": "markdown",
   "metadata": {},
   "source": [
    "# Aula 1 - Introdução ao Python\n",
    "\n",
    "Python é uma linguagem orientada a objetos desenvolvida no final da década de 1980. Embora não seja a linguagem mais utilizada por engenheiros e cientistas, nos ultimos anos ela se tornou a linguagem com o maior crescimento, tanto em desenvolvimento (de funções) e número de \"usuários\".\n",
    "\n",
    "Os programas em Python, em geral, não são compilados para código de máquina, mas sim executados por um interpretador. Isto permite que os programas podem ser testados e depurados facilmente, dando mais tempo ao usuário de pensar na lógica do programa. Ao custo de sempre necessitar de um interpretador instalado para executar o código Python.\n",
    "\n",
    "## Tipos de dados\n",
    "Os dados em Python podem ser divididos em duas classes: primitivos e definidos pelo usuário. Vamos nos ater na primeira categoria.\n",
    "\n",
    "Os dados primitivos são nativos ao Python e são aceitos em qualquer instalação padrão. Eles podem ser números, texto ou compostos, conforme na tabela abaixo:\n",
    "\n",
    "| Tipo de Dado | abv.    | Nome Completo                                                         | Declaração                    |\n",
    "|--------------|---------|-----------------------------------------------------------------------|-------------------------------|\n",
    "| Numérico     | int     | Inteiro                                                               | a = 1                         |\n",
    "| Numérico     | float   | Número Real de Casa Flutuante                                         | a = 1.0                       |\n",
    "| Numérico     | complex | Número Complexo                                                       | a = complex(real, imaginário) |\n",
    "| Texto        | str     | Conjunto de Caracteres                                                | a = \"abc123\"                  |\n",
    "| Composto     | list    | Lista de variáveis ordenável                                          | a = [1, 1.0, \"a\"]             |\n",
    "| Composto     | dict    | Dicionário de variáveis ordenável, mutável e sem duplicatas           | a = {\"letra\":\"a\", \"número\":2} |\n",
    "| Composto     | tuple   | Lista de variáveis ordenável, porém imutável                          | a = (1, 1.0, \"a\")             |\n",
    "| Composto     | set     | Coleção de dados não organizável (e.g., ordem crescente) e sem índice | a = {1, 1.0, \"a\"}             |\n",
    "\n",
    "A linguagem python armazena seus dados de maneira dinâmica e permite a mudação do tipo da váriavel automaticamente em alguns casos. Por exemplo, ao somar uma variável int com uma float, o interpretador automaticamente converte a váriavel int em uma float para efetuar a operação, conforme no exemplo abaixo:"
   ]
  },
  {
   "cell_type": "code",
   "execution_count": 1,
   "metadata": {},
   "outputs": [
    {
     "name": "stdout",
     "output_type": "stream",
     "text": [
      "Variável A: tipo  <class 'int'>\n",
      "Variável B: tipo  <class 'float'>\n",
      "Variável C: tipo  <class 'float'>\n",
      "Valor de C: 2.0\n"
     ]
    }
   ],
   "source": [
    "a = 1 # Variável do tipo INT\n",
    "print(\"Variável A: tipo \", type(a))\n",
    "\n",
    "b = 1.0 # Variável do tipo FLOAT, observe que a diferença é o ponto que define uma casa decimal\n",
    "print(\"Variável B: tipo \", type(b))\n",
    "\n",
    "c = a + b\n",
    "print(\"Variável C: tipo \", type(c))\n",
    "print(\"Valor de C:\", c)"
   ]
  },
  {
   "cell_type": "markdown",
   "metadata": {},
   "source": [
    "## Operações Aritméticas\n",
    "Os operadores aritméticos em python são descritos na tabela abaixo:\n",
    "\n",
    "| Operador | Operação                  |\n",
    "|----------|---------------------------|\n",
    "| +        | Adição                    |\n",
    "| -        | Subtração                 |\n",
    "| *        | Multiplicação             |\n",
    "| /        | Divisão                   |\n",
    "| %        | Módulo (Resto da Divisão) |\n",
    "| **       | Exponenciação             |\n",
    "| //       | Parte Inteira             |\n",
    "\n",
    "O bloco de código a seguir exemplifica a utilização destes operadores:"
   ]
  },
  {
   "cell_type": "code",
   "execution_count": 2,
   "metadata": {},
   "outputs": [
    {
     "name": "stdout",
     "output_type": "stream",
     "text": [
      "Adição = a = 55.1\n",
      "Subtração = s = 50.0\n",
      "Multiplicação = m = 100.0\n",
      "Divisão = d = 4.0\n",
      "Resto da Divisão = r = 0.0\n",
      "Exponenciação = e = 1.0\n",
      "Parte Inteira = pi = 1.0\n"
     ]
    }
   ],
   "source": [
    "# Adição\n",
    "a = 1 + 54.1\n",
    "print(f\"Adição = a = {a}\")\n",
    "\n",
    "# Subtração\n",
    "s = a - 5.1\n",
    "print(f\"Subtração = s = {s}\")\n",
    "\n",
    "# Multiplicação\n",
    "m = s * 2\n",
    "print(f\"Multiplicação = m = {m}\")\n",
    "\n",
    "# Divisão\n",
    "d = m / 25\n",
    "print(f\"Divisão = d = {d}\")\n",
    "\n",
    "# Módulo ou Resto da Divisão\n",
    "r = d % 2\n",
    "print(f\"Resto da Divisão = r = {r}\")\n",
    "\n",
    "# Exponenciação\n",
    "e = 63.5 ** r\n",
    "print(f\"Exponenciação = e = {e}\")\n",
    "\n",
    "# Parte Inteira\n",
    "pi = e // 0.9\n",
    "print(f\"Parte Inteira = pi = {pi}\")"
   ]
  },
  {
   "cell_type": "markdown",
   "metadata": {},
   "source": [
    "## Operações de Comparação\n",
    "Este tipo de estrutura permite ao desenvolvedor comparar variáveis ao longo do código, retornando dois tipos de dados: int (0 caso falso e 1 caso verdadeiro) ou um boleano (false e true)\n",
    "\n",
    "| Operador | Descrição       |\n",
    "|----------|-----------------|\n",
    "| >        | Maior que       |\n",
    "| <        | Menor que       |\n",
    "| >=       | Maior igual que |\n",
    "| <=       | Menor igual que |\n",
    "| !=       | Diferente de    |\n",
    "| ==       | Igual a         |\n",
    "\n",
    "Os blocos de código a seguir exemplificam a utilização destes operadores:"
   ]
  },
  {
   "cell_type": "code",
   "execution_count": 3,
   "metadata": {},
   "outputs": [
    {
     "data": {
      "text/plain": [
       "False"
      ]
     },
     "execution_count": 3,
     "metadata": {},
     "output_type": "execute_result"
    }
   ],
   "source": [
    "a > m"
   ]
  },
  {
   "cell_type": "code",
   "execution_count": 4,
   "metadata": {},
   "outputs": [
    {
     "data": {
      "text/plain": [
       "False"
      ]
     },
     "execution_count": 4,
     "metadata": {},
     "output_type": "execute_result"
    }
   ],
   "source": [
    "pi < e"
   ]
  },
  {
   "cell_type": "code",
   "execution_count": 5,
   "metadata": {},
   "outputs": [
    {
     "data": {
      "text/plain": [
       "True"
      ]
     },
     "execution_count": 5,
     "metadata": {},
     "output_type": "execute_result"
    }
   ],
   "source": [
    "d == 4"
   ]
  },
  {
   "cell_type": "code",
   "execution_count": 6,
   "metadata": {},
   "outputs": [
    {
     "data": {
      "text/plain": [
       "True"
      ]
     },
     "execution_count": 6,
     "metadata": {},
     "output_type": "execute_result"
    }
   ],
   "source": [
    "pi != 0"
   ]
  },
  {
   "cell_type": "markdown",
   "metadata": {},
   "source": [
    "Tambem é possivel utilizar as condicionais com outras operações, por exemplo:"
   ]
  },
  {
   "cell_type": "code",
   "execution_count": 7,
   "metadata": {},
   "outputs": [],
   "source": [
    "a = 10\n",
    "b = 20\n",
    "\n",
    "c = (a/b)*(a>b) + (b/a)*(a<b)"
   ]
  },
  {
   "cell_type": "markdown",
   "metadata": {},
   "source": [
    "A operação acima compara o valor de a e de b. Lembre que se a comparação for verdadeira o valor 1 é assumido, caso contrário 0. Desta forma, podemos utilizar argumentos de comparação para excluir resultados não desejados de maneira simples.\n",
    "\n",
    "No exemplo acima sabemos que a < b, desta forma o resultado da linha deve ser 2:\n",
    "\n",
    "$c = (10/20)*(0) + (20/10)*(1)$"
   ]
  },
  {
   "cell_type": "code",
   "execution_count": 8,
   "metadata": {},
   "outputs": [
    {
     "name": "stdout",
     "output_type": "stream",
     "text": [
      "2.0\n"
     ]
    }
   ],
   "source": [
    "print(c)"
   ]
  },
  {
   "cell_type": "markdown",
   "metadata": {},
   "source": [
    "## Operadores Lógicos\n",
    "Estes permitem ao desenvolvedor introduzir lógica ao código e acoplar várias condicionais à mesma linha. São os operadores lógicos:\n",
    "\n",
    "| Operador | Descrição                                                                                                     |\n",
    "|----------|---------------------------------------------------------------------------------------------------------------|\n",
    "| and      | Retorna verdadeiro se ambas comparações são verdadeiras                                                       |\n",
    "| or       | Retorna verdadeiro caso uma das comparações são verdadeiras                                                   |\n",
    "| not      | Inverte o resultado da comparação. Caso a comparação a == b seja verdadeira, este operador irá retornar falso |\n",
    "\n",
    "Os blocos de código a seguir exemplificam a utilização destes operadores:"
   ]
  },
  {
   "cell_type": "code",
   "execution_count": 9,
   "metadata": {},
   "outputs": [
    {
     "name": "stdout",
     "output_type": "stream",
     "text": [
      "True\n"
     ]
    }
   ],
   "source": [
    "a = 10\n",
    "b = 20\n",
    "c = 40\n",
    "\n",
    "res_and = a < b and c > a + b\n",
    "print(res_and)"
   ]
  },
  {
   "cell_type": "code",
   "execution_count": 10,
   "metadata": {},
   "outputs": [
    {
     "name": "stdout",
     "output_type": "stream",
     "text": [
      "True\n"
     ]
    }
   ],
   "source": [
    "res_or = (a + b +c > 200) or (a + b + c == 70)\n",
    "print(res_or)"
   ]
  },
  {
   "cell_type": "code",
   "execution_count": 11,
   "metadata": {},
   "outputs": [
    {
     "name": "stdout",
     "output_type": "stream",
     "text": [
      "False\n"
     ]
    }
   ],
   "source": [
    "res_not = not(a < b and c > a + b)\n",
    "print(res_not)"
   ]
  },
  {
   "cell_type": "markdown",
   "metadata": {},
   "source": [
    "## Condicionais\n",
    "\n",
    "Como em qualquer outra linguagem de programação, o python posssui estruturas para adicionar condições ao código, os \"if-statements\". Estas estruturas permitem que parte do código seja utilizado dependendo das condições dadas. São os operadores condicionais:\n",
    "\n",
    "| Operador | Descrição                                                                       |\n",
    "|----------|---------------------------------------------------------------------------------|\n",
    "| if       | Hipótese 0, primeira condição a ser testada.                                    |\n",
    "| elif     | Hipótese n, esta é testada caso a anterior não seja válida.                     |\n",
    "| else     | Hipótese nula, esta será executada caso nenhuma outra hipótese seja verdadeira. |\n",
    "\n",
    "Vejamos com mais calma no exemplo abaixo:\n",
    "\n"
   ]
  },
  {
   "cell_type": "code",
   "execution_count": 12,
   "metadata": {},
   "outputs": [
    {
     "name": "stdout",
     "output_type": "stream",
     "text": [
      "a = 10 < b = 20\n"
     ]
    }
   ],
   "source": [
    "# Declaração das variáveis\n",
    "a = 10\n",
    "b = 20\n",
    "\n",
    "if a < b:\n",
    "    print(f\"a = {a} < b = {b}\")\n",
    "elif b > a:\n",
    "    print(f\"a = {a} < b = {b}\")\n",
    "else:\n",
    "    print(f\"a = {a} > b = {b}\")"
   ]
  },
  {
   "cell_type": "markdown",
   "metadata": {},
   "source": [
    "Observe que há duas condições verdadeiras neste trecho de código (if e elif), entretanto apenas uma é executada. Isto ocorre porque ao encontrar a primeira condição verdadeira o código cessa a procura por mais hipóteses, desta forma o código nunca chega a executar da linha \"elif b > a:\" para baixo.\n",
    "\n",
    "Lembra daquele bloco de código que executamos acima? O qual utilizamos operadores de comparação para calcular c? Este trecho pode ser descrito da seguinte forma:"
   ]
  },
  {
   "cell_type": "code",
   "execution_count": 13,
   "metadata": {},
   "outputs": [
    {
     "name": "stdout",
     "output_type": "stream",
     "text": [
      "2.0\n"
     ]
    }
   ],
   "source": [
    "if a > b: # Condicional comparativo\n",
    "    c = a / b #Trecho a ser executado caso o condicional seja verdadeiro\n",
    "else:\n",
    "    c = b / a\n",
    "\n",
    "print(c)"
   ]
  },
  {
   "cell_type": "markdown",
   "metadata": {},
   "source": [
    "Note que em python há uma estrutura diferente de linguagens como C e C++ em que condicionais e funções são separadas por { }. Python é uma linguagem identada, ou seja, estas funções são delimitadas com quatro espaços antes do comando. Este espaçamento é fundamental para a execução de um código python."
   ]
  },
  {
   "cell_type": "markdown",
   "metadata": {},
   "source": [
    "## Loops\n",
    "\n",
    "Para processos iterativos, talvez o que mais iremos usar no curso, as funções for e while se destacam. Estas estruturas são feitas para que possamos varrer listas, dicionários, tuplas, por exemplo:"
   ]
  },
  {
   "cell_type": "code",
   "execution_count": 14,
   "metadata": {},
   "outputs": [
    {
     "name": "stdout",
     "output_type": "stream",
     "text": [
      "maçã\n",
      "banana\n",
      "melão\n"
     ]
    }
   ],
   "source": [
    "lista = ['maçã', 'banana', 'melão']\n",
    "\n",
    "for ii in lista:\n",
    "    print(ii)"
   ]
  },
  {
   "cell_type": "markdown",
   "metadata": {},
   "source": [
    "Mas também percorrer um intervalo de números estipulado:"
   ]
  },
  {
   "cell_type": "code",
   "execution_count": 15,
   "metadata": {},
   "outputs": [
    {
     "name": "stdout",
     "output_type": "stream",
     "text": [
      "0\n",
      "1\n",
      "2\n"
     ]
    }
   ],
   "source": [
    "for ii in range(3): #range(inicio, fim, passo) ou apenas range(fim), sendo que o inicio será por padrão 0\n",
    "    print(ii)"
   ]
  },
  {
   "cell_type": "markdown",
   "metadata": {},
   "source": [
    "A função while tem sentido semelhante, entretanto ela utiliza uma condicional para continuar o loop ou não. Desta forma é possível fazer loops infinitos (\"while True\") ou com base em variáveis:"
   ]
  },
  {
   "cell_type": "code",
   "execution_count": 16,
   "metadata": {},
   "outputs": [
    {
     "name": "stdout",
     "output_type": "stream",
     "text": [
      "0\n",
      "1\n",
      "2\n"
     ]
    }
   ],
   "source": [
    "ii = 0\n",
    "while ii < 3:\n",
    "    print(ii)\n",
    "    ii = ii + 1"
   ]
  },
  {
   "cell_type": "markdown",
   "metadata": {},
   "source": [
    "## Funções\n",
    "\n",
    "Outra ferramenta que iremos utilizar nestas aulas serão as funções. Estas são estruturas definidas pelo usuário e que serão utilizadas uma ou várias vezes ao longo do programa. Desta forma, é interessante que se defina a estrutura uma unica vez para que se economize espaço de texto, mas também seja mais fácil de atualizar ou corrigir problema que possam surgir na função.\n",
    "\n",
    "Uma função é definida da seguinte forma:\n",
    "```Python\n",
    "def nome_da_funcao(variaveis necessarias)\n",
    "    corpo da funcao\n",
    "    return variaveis_a_retornar\n",
    "```\n",
    "Como exemplo façamos uma função que faça o fatorial de um número dado:"
   ]
  },
  {
   "cell_type": "code",
   "execution_count": 17,
   "metadata": {},
   "outputs": [
    {
     "name": "stdout",
     "output_type": "stream",
     "text": [
      "120\n"
     ]
    }
   ],
   "source": [
    "def fatorial(a):\n",
    "    i = 1\n",
    "    res = 1\n",
    "    while i <= a:\n",
    "        res = res * i\n",
    "        i = i + 1\n",
    "    return res\n",
    "\n",
    "b = fatorial(5) # A função é executada apenas nessa linha\n",
    "print(b)"
   ]
  },
  {
   "cell_type": "markdown",
   "metadata": {},
   "source": [
    "## Importação de Módulos\n",
    "\n",
    "Talvez o mais importante da aula de hoje são os módulos. Estes são códigos com funções já implementadas, seja disponível através de bibliotecas ou feitas pelo usuário, que podem ser chamadas no código atual. Isto permite que o seu programa seja expandido de maneira mais rápida, afinal não queremos ter de definir funções como a fatorial se podemos fazer o mesmo com duas linhas:"
   ]
  },
  {
   "cell_type": "code",
   "execution_count": 18,
   "metadata": {},
   "outputs": [
    {
     "name": "stdout",
     "output_type": "stream",
     "text": [
      "120\n"
     ]
    }
   ],
   "source": [
    "import math\n",
    "print(math.factorial(5))"
   ]
  },
  {
   "cell_type": "markdown",
   "metadata": {},
   "source": [
    "Talvez as bibliotecas a mais serem utilizadas ao longo do curso serão:\n",
    "\n",
    "| Biblioteca | Descrição                                                                                |\n",
    "|------------|------------------------------------------------------------------------------------------|\n",
    "| Math       | Funções matemáticas básicas (e.g., fatorial, produto escalar, ...)                       |\n",
    "| Numpy      | Pacote de análise de matrizes e análises numéricas em N-dimensões.                       |\n",
    "| Pandas     | Pacote de análise de dados e análise da estrutura dos dados                              |\n",
    "| Matplotlib | Pacote de representação gráfica (e.g., representação em gráficos 2D, 3D, contornos, ...) |\n",
    "\n",
    "Ou básicamente o ecosistema _Scipy_ (https://www.scipy.org/), que vem de maneira padrão junto com o ambiente _Anaconda_ (https://www.anaconda.com/)."
   ]
  }
 ],
 "metadata": {
  "kernelspec": {
   "display_name": "Python 3 (Spyder)",
   "language": "python3",
   "name": "python3"
  },
  "language_info": {
   "codemirror_mode": {
    "name": "ipython",
    "version": 3
   },
   "file_extension": ".py",
   "mimetype": "text/x-python",
   "name": "python",
   "nbconvert_exporter": "python",
   "pygments_lexer": "ipython3",
   "version": "3.7.6"
  }
 },
 "nbformat": 4,
 "nbformat_minor": 4
}
