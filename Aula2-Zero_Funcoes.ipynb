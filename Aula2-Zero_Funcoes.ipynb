{
 "cells": [
  {
   "cell_type": "markdown",
   "metadata": {},
   "source": [
    "# Aula 2 - Zero de Funções\n",
    "\n",
    "Zero de Funções, ou raiz de funções, é o termo que se utiliza para a técnica para justamente encontrar o valor que uma função qualquer cruza o eixo. Embora seja uma disciplina que ocorre em diversos contextos, talvez nos projetos de engenharia seja onde a técnica mais se sobressai. Na tabela abaixo temos alguns exemplos onde essa técnica pode ser empregada:\n",
    "\n",
    "| Princípio Fundamental | Variável Dependente                          | Variável Independente | Parâmetros                                                         |\n",
    "|-----------------------|----------------------------------------------|-----------------------|--------------------------------------------------------------------|\n",
    "| Balanço de Calor      | Temperatura                                  | Tempo e Posição       | Propriedades térmicas dos materiais.                               |\n",
    "| Balanço de Massa      | Concentração ou Quantidade de Massa          | Tempo e Posição       | Transferências de massa, transporte de poluentes.                  |\n",
    "| Balanço de Forças     | Magnitude e Direção das Forças               | Tempo e Posição       | Resistência dos materiais, propriedades estruturais                |\n",
    "| Segunda lei de Newton | Aceleração, Velocidade ou Localização        | Tempo e Posição       | Massa de materiais, sistemas geometricos, parametros dissipativos. |\n",
    "| Lei de Kirchhoff      | Correntes e Voltagens de Circuitos Elétricos | Tempo                 | Propriedades elétricas                                             |\n",
    "\n",
    "Dentre as técnicas de cálculo do zero de funções, estudaremos as seguintes nessa aula:\n",
    "- Método da Bissecção\n",
    "- Método de Newton-Raphson\n",
    "\n",
    "## Método da Bissecção\n",
    "\n",
    "O método da bissecção é um método para resolver equações do tipo $f(x)=0$. Este consiste em aplicar sucessivas iterações para reduzir o intervalo em que o zero se encontra pela metade em cada iteração, processo também conhecido como busca incremental. Este método não é o mais rápido em termos computacionais, entretanto é um dos mais confiáveis.\n",
    "\n",
    "![Bissecção](img/bisseccao.png \"Representação do Método da Bissecção. BURDEN R. L. et al. Numerical Analysis. 9 ed. Brooks/Cole Cengage Learning, 2010. p. 49.\")\n",
    "\n",
    "Representação do Método da Bissecção. BURDEN R. L. et al. Numerical Analysis. 9 ed. Brooks/Cole Cengage Learning, 2010. p. 49.\n",
    "\n",
    "Em termos simples, dentro e um intervalo entre $x_2$ (limite superior) e $x_1$ (limite inferior) haverá uma raiz caso $f(x_1)$ e $f(x_2)$ tiverem sinais contrários. Para reduzir o intervalo para metade calculamos uma terceira posição $f(x_3) = \\frac{1}{2}\\left( x_1 + x_2\\right)$ que será o meio do intervalo. Neste ponto avaliamos qual os dois lados possuem sinais contrários $f(x_1)$ e $f(x_3)$ ou $f(x_3)$ e $f(x_2)$, no qual $f(x_3)$ substitui um dos extremos iniciais, diminuindo pela metade o intervalo da função. O critério de parada deste método é o seguinte\n",
    "\n",
    "$\\left|x_n - x_(n-1)\\right| \\leq \\epsilon$\n",
    "\n",
    "onde n é a enésima iteração e $\\epsilon$ é o erro tolerado.\n",
    "\n",
    "Se o intervalo inicial for $\\Delta x$ e após a primeira iteração ele se transforma em $\\Delta x/ 2$, a segunda seria $\\Delta x / 2^2$. Após a enésima iteração temos que o intervalo será $\\Delta x/ 2^n$, se consideramos que $\\Delta x/ 2^n = \\epsilon$, podemos estimar a quantidade de iterações necessárias utilizando:\n",
    "\n",
    "$n = \\frac{ln\\left(\\Delta x / \\epsilon\\right)}{ln 2}$\n",
    "\n",
    "Em python o processo de implementação é o seguinte:\n",
    "1. Importar as Bibliotecas Necessárias\n",
    "2. Definir a Função Erro\n",
    "3. Definir a Função da Bissecção\n",
    "4. Definir a Equação a Ser Calculada\n",
    "\n",
    "### Bibliotecas Necessárias"
   ]
  },
  {
   "cell_type": "code",
   "execution_count": null,
   "metadata": {},
   "outputs": [],
   "source": [
    "import sys # Biblioteca para operações de sistema e console\n",
    "import math #Biblioteca para funções matemáticas básicas\n",
    "import numpy as np #Biblioteca Numpy"
   ]
  },
  {
   "cell_type": "markdown",
   "metadata": {},
   "source": [
    "### Função de Erro\n",
    "Esta função é necessária para o caso em que o intervalo que fornecemos como condição inicial não contenha raiz alguma. Em outras palavras, quando $f(x_1)$, $f(x_2)$ e $f(x_3)$ têm o mesmo sinal."
   ]
  },
  {
   "cell_type": "code",
   "execution_count": null,
   "metadata": {},
   "outputs": [],
   "source": [
    "def erro(msg): # Função erro com argumento msg (Mensagem)\n",
    "    sys.exit(msg)"
   ]
  },
  {
   "cell_type": "markdown",
   "metadata": {},
   "source": [
    "### Função da Bissecção"
   ]
  },
  {
   "cell_type": "code",
   "execution_count": null,
   "metadata": {},
   "outputs": [],
   "source": [
    "def bisseccao(func, x1, x2, tol):\n",
    "    '''\n",
    "    Utilização:\n",
    "    raiz = bisseccao(func, x1, x2, tol)\n",
    "     \n",
    "    f - função a ser calculada\n",
    "    x1 - primeiro ponto do intervalo\n",
    "    x2 - segundo ponto do intervalo\n",
    "    tol - erro tolerado\n",
    "    \n",
    "    Encontra a raiz de uma função f(x) = 0 utilizando o método da bisseção.\n",
    "    A raiz deve estar entre as posições iniciais x1 e x2.\n",
    "    '''\n",
    "    # Cálculo das posições f(x1) e f(x2)\n",
    "    f1 = func(x1)\n",
    "    if f1 == 0: return x1\n",
    "    f2 = func(x2)\n",
    "    if f2 == 0: return x2\n",
    "      \n",
    "    # Cálculo do Número de Iterações\n",
    "    n = int(math.ceil(math.log(abs(x2 - x1)/tol)/math.log(2.0)))\n",
    "        ## math.ceil - Faz o arredondamento para cima (e.g. 1.2 --> 2.0)\n",
    "        ## math.log - Faz o cálculo do logaritmo natural (ln)\n",
    "        ## abs - É uma função nativa de python que calcula o valor absoluto, ou módulo.\n",
    "    \n",
    "    print(f\"Número de Iterações: {n}\")\n",
    "    print(\"Iteração |   x         |   Erro\")\n",
    "    \n",
    "    # Definição do Loop da Bissecção\n",
    "    x_ant = 0\n",
    "    err = abs(f2 - f1)*10\n",
    "    iteracao = 0\n",
    "    while err > tol:\n",
    "        x = 0.5*(x1 + x2)\n",
    "        fx = func(x)\n",
    "        \n",
    "        if fx == 0: return x\n",
    "        elif np.sign(f2) != np.sign(fx):\n",
    "            x1 = x\n",
    "            f1 = fx\n",
    "        elif np.sign(f1) != np.sign(fx):\n",
    "            x2 = x\n",
    "            f2 = fx\n",
    "        else:\n",
    "            erro(\"O intervalo não contém qualquer raiz\")\n",
    "        \n",
    "        err = abs(x - x_ant)\n",
    "        x_ant = x\n",
    "        iteracao += 1\n",
    "        print(\"%d        |\"%iteracao,\"x = %.4f\"%x, \"| Erro = %.4f\"%err)  \n",
    "    return x"
   ]
  },
  {
   "cell_type": "markdown",
   "metadata": {},
   "source": [
    "### Definição da Equação a Ser Calculada\n",
    "\n",
    "Como exemplo inicial utilizaremos a seguinte equação:\n",
    "\n",
    "$f(x) = x^3 - 7x^2 + 4$"
   ]
  },
  {
   "cell_type": "code",
   "execution_count": null,
   "metadata": {},
   "outputs": [],
   "source": [
    "def func(x):\n",
    "    return x**3 - 7*x**2 + 4"
   ]
  },
  {
   "cell_type": "markdown",
   "metadata": {},
   "source": [
    "Como medida comparativa, vamos fazer o plot da função"
   ]
  },
  {
   "cell_type": "code",
   "execution_count": null,
   "metadata": {},
   "outputs": [],
   "source": [
    "%matplotlib inline\n",
    "import matplotlib.pyplot as plt\n",
    "\n",
    "x_val = np.linspace(-2,7.5) # Cria uma lista de pontos igualmente espaçados\n",
    "\n",
    "plt.plot(x_val, func(x_val))\n",
    "plt.grid()\n",
    "plt.show()"
   ]
  },
  {
   "cell_type": "markdown",
   "metadata": {},
   "source": [
    "Sabemos agora, que temos raizes nos intervalos (-2 a 0), (0 a 2) e (6 e 7.5)\n",
    "### Cálculo da Raiz\n",
    "Calculemos então a primeira raiz utilizando o método da bissecção:"
   ]
  },
  {
   "cell_type": "code",
   "execution_count": null,
   "metadata": {},
   "outputs": [],
   "source": [
    "tol = 1.0e-04\n",
    "x1 = -2\n",
    "x2 = 0\n",
    "raiz = bisseccao(func, x1, x2, tol)\n",
    "\n",
    "# Imprime o resultado da bissecção\n",
    "print(f\"x = {raiz}\")"
   ]
  },
  {
   "cell_type": "markdown",
   "metadata": {},
   "source": [
    "## Exercício\n",
    "\n",
    "Escreva a funcao de bissecção utilizando o método de loop for ao invés do while que usamos. Para isso será necessário utilizar a construção que calcula a quantidade de loops necessários para delimitar o loop for. Aqui vai um início:\n",
    "\n",
    "```python\n",
    "import math\n",
    "import numpy as np\n",
    "import sys\n",
    "\n",
    "def erro(msg): # Função erro com argumento msg (Mensagem)\n",
    "    sys.exit(msg)\n",
    "\n",
    "def bisseccao(func, x1, x2, tol):\n",
    "    '''\n",
    "    Utilização:\n",
    "    raiz = bisseccao(func, x1, x2, tol)\n",
    "    \n",
    "    f - função a ser calculada\n",
    "    x1 - primeiro ponto do intervalo\n",
    "    x2 - segundo ponto do intervalo\n",
    "    tol - erro tolerado\n",
    "    \n",
    "    Encontra a raiz de uma função f(x) = 0 utilizando o método da bisseção.\n",
    "    A raiz deve estar entre as posições iniciais x1 e x2.\n",
    "    '''\n",
    "    # Cálculo das posições f(x1) e f(x2)\n",
    "    f1 = func(x1)\n",
    "    if f1 == 0: return x1\n",
    "    f2 = func(x2)\n",
    "    if f2 == 0: return x2\n",
    "      \n",
    "    # Cálculo do Número de Iterações\n",
    "    n = int(math.ceil(math.log(abs(x2 - x1)/tol)/math.log(2.0)))\n",
    "        ## math.ceil - Faz o arredondamento para cima (e.g. 1.2 --> 2.0)\n",
    "        ## math.log - Faz o cálculo do logaritmo natural (ln)\n",
    "        ## abs - É uma função nativa de python que calcula o valor absoluto, ou módulo.\n",
    "    for ii in range(n+1):\n",
    "        SEU CÓDIGO AQUI\n",
    "    return x\n",
    "\n",
    "def func(x):\n",
    "    return x**3 - 7*x**2 + 4\n",
    "\n",
    "tol = 1.0e-04\n",
    "x1 = -2\n",
    "x2 = 0\n",
    "raiz = bisseccao(func, x1, x2, tol)\n",
    "\n",
    "# Imprime o resultado da bissecção\n",
    "print(f\"x = {raiz}\")\n",
    "```"
   ]
  },
  {
   "cell_type": "markdown",
   "metadata": {},
   "source": [
    "## Método de Newton-Raphson\n",
    "\n",
    "Talvez o método mais utilizado para localizar raizes, por ser simples e rápido. Este método utiliza o conceito de retas tangentes para procurar a raiz. Sua equação pode ser derivada através de interpretação geométrica ou baseado na série de Taylor. Sua equação principal é a seguinte:\n",
    "\n",
    "$x_{i+1}=x_i-\\frac{f(x_i)}{f^{'}(x_i)}$\n",
    "\n",
    "![Newton-Raphson](img/newton-raphson.png \"Interpretação Gráfica do Método\")\n",
    "\n",
    "Interpretação Gráfica do Método. Kiusalaas, J. (2013). Numerical Methods in Engineering with Python 3. Cambridge: Cambridge University Press.\n",
    "\n",
    "O método consiste em repetidamente aplicar a equação acima até que o critério de convergencia (erro tolerado) seja atingido. Sendo que o erro é definido como:\n",
    "\n",
    "$\\epsilon =\\left| x_{i+1} - x_i\\right |$\n",
    "\n",
    "O método de Newton-Raphson tem uma convergencia quadrática, ou seja o erro atual é o quadrado do erro da iteração anterior. O que significantemente diminui a quantidade de iterações. Entretanto, este método nem sempre chega a convergir, já que nem sempre a reta tangente é uma aproximação aceitável da função. Neste caso podemos recorrer ao método da bissecção.\n",
    "\n",
    "![Divergência de Newton-Raphson](img/newton-raphson-diverge.png \"Casos em que a reta tangente não é uma boa aproximação\")\n",
    "\n",
    "Casos em que a reta tangente não é uma boa aproximação. Kiusalaas, J. (2013). Numerical Methods in Engineering with Python 3. Cambridge: Cambridge University Press.\n",
    "\n",
    "Vamos implementar a método:"
   ]
  },
  {
   "cell_type": "code",
   "execution_count": null,
   "metadata": {},
   "outputs": [],
   "source": [
    "def newtonRaphson(f, df, x0, tol):\n",
    "    \"\"\"\n",
    "    Utilização:\n",
    "    x = newtonRaphson(f, df, x0, tol)\n",
    "    \n",
    "    f - função a ser calculada\n",
    "    df - derivada desta função\n",
    "    x0 - ponto inicial\n",
    "    tol - erro tolerado\n",
    "    \n",
    "    Calcula a raiz de uma função (F(x) = 0) calculando o método de Newton-Raphson.\n",
    "    O usuário deve fornecer a função f(x) e sua derivada f'(x)\n",
    "    \"\"\"\n",
    "    err = 100\n",
    "    iteracao = 0\n",
    "    x_ant = x0\n",
    "    err_ant = err*10\n",
    "    while err > tol:\n",
    "        x = x_ant - f(x_ant)/df(x_ant)\n",
    "        err = abs(x-x_ant)\n",
    "        if err > err_ant:\n",
    "            erro(\"O método divergiu\")\n",
    "        x_ant = x\n",
    "        err_ant = err\n",
    "        iteracao += 1\n",
    "        print(\"%d        |\"%iteracao,\"x = %.4f\"%x, \"| Erro = %.4f\"%err)\n",
    "    return x"
   ]
  },
  {
   "cell_type": "markdown",
   "metadata": {},
   "source": [
    "Vamos agora definir a função a ser calculada. Note que aqui vamos usar uma notação um pouco diferente da anterior, mas ambas possuem o mesmo significado. Funções que apenas retornam valores, exemplo:\n",
    "\n",
    "```python\n",
    "def função(x):\n",
    "    return x + 2**x\n",
    "```\n",
    "Podem ser declaradas apenas usando uma linha na forma:\n",
    "\n",
    "```python\n",
    "função = lambda x: x + 2**x\n",
    "```\n",
    "\n",
    "Ambas têm o mesmo significado, a escolha fica a cargo de quem escreve o código.\n",
    "\n",
    "Vamos usar como teste um problema simples, encontrar o valor da raiz quadrada de 2. Desta forma, nossa equação será a segunte:\n",
    "\n",
    "$f(x) = x^2 - 2$\n",
    "\n",
    "$f^{'}(x) = 2x$"
   ]
  },
  {
   "cell_type": "code",
   "execution_count": null,
   "metadata": {},
   "outputs": [],
   "source": [
    "f = lambda x: x**2 - 2\n",
    "df = lambda x: 2*x"
   ]
  },
  {
   "cell_type": "markdown",
   "metadata": {},
   "source": [
    "Com todas as funções declaradas, basta apenas chamá-las para que tenhamos o nosso resultado."
   ]
  },
  {
   "cell_type": "code",
   "execution_count": null,
   "metadata": {},
   "outputs": [],
   "source": [
    "# Note que os parametros x0 e tol foram colocados diretamente na chamada da função.\n",
    "# Isto faz com que economizemos algumas linhas, entretanto tem o mesmo significado que:\n",
    "# x0 = 2\n",
    "# tol = 1e-4\n",
    "# raiz = newtonRaphson(f, df, x0, tol)\n",
    "raiz = newtonRaphson(f, df, 2, 1e-4)\n",
    "\n",
    "print(f\"x = {raiz}\")"
   ]
  },
  {
   "cell_type": "markdown",
   "metadata": {},
   "source": [
    "Podemos conferir o resultado de forma gráfica:"
   ]
  },
  {
   "cell_type": "code",
   "execution_count": null,
   "metadata": {},
   "outputs": [],
   "source": [
    "%matplotlib inline\n",
    "\n",
    "x_val = np.linspace(0,2) # Cria uma lista de pontos igualmente espaçados\n",
    "\n",
    "plt.plot(x_val, f(x_val), label=\"f(x)\")\n",
    "plt.grid()\n",
    "plt.show()"
   ]
  },
  {
   "cell_type": "markdown",
   "metadata": {},
   "source": [
    "## Exercício\n",
    "\n",
    "![Exercicio Bernoulli](img/bernouli.png)\n",
    "\n",
    "A equação de Bernoulli para o escoamento de canal aberto com um pequeno obstáculo é a seguinte:\n",
    "\n",
    "$\\frac{Q^2}{2gb^2h^{2}_{0}}+h_0=\\frac{Q^2}{2gb^2h^{2}}+h+H$\n",
    "\n",
    "onde\n",
    "\n",
    "| Símbolo | Valor      | Descrição                          |\n",
    "|---------|------------|------------------------------------|\n",
    "| $Q$     | 1.2 m³/s   | Vazão do Escoamento                |\n",
    "| $g$     | 9.81 m/s²  | Aceleração Gravitacional           |\n",
    "| $b$     | 1.8 m      | Largura do Canal                   |\n",
    "| $h_0$   | 0.6 m      | Altura da Lamina D'Água à Montante |\n",
    "| $H$     | 0.075 m    | Altura do Degrau                   |\n",
    "| $h$     | -          | Lamina D'Água Acima do Degrau      |\n",
    "\n",
    "Determine o valor de h"
   ]
  },
  {
   "cell_type": "code",
   "execution_count": null,
   "metadata": {},
   "outputs": [],
   "source": []
  }
 ],
 "metadata": {
  "kernelspec": {
   "display_name": "Python 3 (Spyder)",
   "language": "python3",
   "name": "python3"
  },
  "language_info": {
   "codemirror_mode": {
    "name": "ipython",
    "version": 3
   },
   "file_extension": ".py",
   "mimetype": "text/x-python",
   "name": "python",
   "nbconvert_exporter": "python",
   "pygments_lexer": "ipython3",
   "version": "3.7.6"
  }
 },
 "nbformat": 4,
 "nbformat_minor": 4
}
